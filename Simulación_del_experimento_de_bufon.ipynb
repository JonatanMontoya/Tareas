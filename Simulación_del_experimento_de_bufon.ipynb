{
  "nbformat": 4,
  "nbformat_minor": 0,
  "metadata": {
    "colab": {
      "name": "Simulación del experimento de bufon.ipynb",
      "provenance": [],
      "authorship_tag": "ABX9TyPnfbEGuMfcsf4GF0u9dZ0b",
      "include_colab_link": true
    },
    "kernelspec": {
      "name": "python3",
      "display_name": "Python 3"
    },
    "language_info": {
      "name": "python"
    }
  },
  "cells": [
    {
      "cell_type": "markdown",
      "metadata": {
        "id": "view-in-github",
        "colab_type": "text"
      },
      "source": [
        "<a href=\"https://colab.research.google.com/github/JonatanMontoya/Tareas/blob/main/Simulaci%C3%B3n_del_experimento_de_bufon.ipynb\" target=\"_parent\"><img src=\"https://colab.research.google.com/assets/colab-badge.svg\" alt=\"Open In Colab\"/></a>"
      ]
    },
    {
      "cell_type": "markdown",
      "source": [
        "Simulación del experimento de Bufón"
      ],
      "metadata": {
        "id": "1AOtW61pQuBY"
      }
    },
    {
      "cell_type": "code",
      "execution_count": 5,
      "metadata": {
        "colab": {
          "base_uri": "https://localhost:8080/"
        },
        "id": "4-fYPxWvQoyE",
        "outputId": "564c5b37-6295-4ab7-a29d-55a5dcabe678"
      },
      "outputs": [
        {
          "output_type": "stream",
          "name": "stdout",
          "text": [
            "Pi simulado con buffon:  3.1445552026665826\n",
            "Valor real de Pi 3.141592653589793\n"
          ]
        }
      ],
      "source": [
        "#Experimento de Bufon \n",
        "#Montoya Lopez Jonatan Emmanuel\n",
        "\n",
        "import numpy as np\n",
        "from random import random\n",
        "from math import pi\n",
        "n=1000000\n",
        "l=0.75\n",
        "a=1\n",
        "k = 0\n",
        "t = np.random.uniform(0, np.pi, n)\n",
        "x = np.random.uniform(0, a/2, n)\n",
        "    \n",
        "for i in range(n):\n",
        "  if x[i] <= l * np.sin(t[i]) / 2:\n",
        "    k = k + 1\n",
        "            \n",
        "bufon = 2 * l * n / (a * k)\n",
        "\n",
        "print(\"Pi simulado con buffon: \",bufon)\n",
        "print(\"Valor real de Pi\", pi) "
      ]
    }
  ]
}
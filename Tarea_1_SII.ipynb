{
  "nbformat": 4,
  "nbformat_minor": 0,
  "metadata": {
    "colab": {
      "name": "Tarea 1  SII.ipynb",
      "provenance": [],
      "authorship_tag": "ABX9TyPCIQrrsYyhL9cuFxVwywRk",
      "include_colab_link": true
    },
    "kernelspec": {
      "name": "python3",
      "display_name": "Python 3"
    },
    "language_info": {
      "name": "python"
    }
  },
  "cells": [
    {
      "cell_type": "markdown",
      "metadata": {
        "id": "view-in-github",
        "colab_type": "text"
      },
      "source": [
        "<a href=\"https://colab.research.google.com/github/JonatanMontoya/Tareas/blob/main/Tarea_1_SII.ipynb\" target=\"_parent\"><img src=\"https://colab.research.google.com/assets/colab-badge.svg\" alt=\"Open In Colab\"/></a>"
      ]
    },
    {
      "cell_type": "markdown",
      "source": [
        "Montoya López Jonatan Emmanuel\n",
        "\n",
        "Tareas correspondientes al primer parcial"
      ],
      "metadata": {
        "id": "6VzOm-_eNC1G"
      }
    },
    {
      "cell_type": "code",
      "execution_count": 5,
      "metadata": {
        "colab": {
          "base_uri": "https://localhost:8080/"
        },
        "id": "BZY27ERKMRJw",
        "outputId": "9e7d37d4-acec-4085-b14f-5ae848249569"
      },
      "outputs": [
        {
          "output_type": "stream",
          "name": "stdout",
          "text": [
            "El número aproximado de pi por medio de simulacion de Montecarlo es:  3.141732\n"
          ]
        }
      ],
      "source": [
        "#Tarea 1 ESTIMACION DEL NUMERO PI\n",
        "from random import random\n",
        "i=0\n",
        "cuenta=0\n",
        "N=1000000\n",
        "\n",
        "while i<N:\n",
        "  x=random()\n",
        "  y=random()\n",
        "\n",
        "  if x**2+y**2<1:\n",
        "    cuenta=cuenta+1\n",
        "  i=i+1\n",
        "print(\"El número aproximado de pi por medio de simulacion de Montecarlo es: \", 4*cuenta/N)"
      ]
    }
  ]
}
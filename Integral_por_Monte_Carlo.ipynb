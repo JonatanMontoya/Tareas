{
  "nbformat": 4,
  "nbformat_minor": 0,
  "metadata": {
    "colab": {
      "name": "Integral por Monte Carlo.ipynb",
      "provenance": [],
      "authorship_tag": "ABX9TyOcKbpHh5FvmOv8aER/euDh",
      "include_colab_link": true
    },
    "kernelspec": {
      "name": "python3",
      "display_name": "Python 3"
    },
    "language_info": {
      "name": "python"
    }
  },
  "cells": [
    {
      "cell_type": "markdown",
      "metadata": {
        "id": "view-in-github",
        "colab_type": "text"
      },
      "source": [
        "<a href=\"https://colab.research.google.com/github/JonatanMontoya/Tareas/blob/main/Integral_por_Monte_Carlo.ipynb\" target=\"_parent\"><img src=\"https://colab.research.google.com/assets/colab-badge.svg\" alt=\"Open In Colab\"/></a>"
      ]
    },
    {
      "cell_type": "code",
      "execution_count": 2,
      "metadata": {
        "colab": {
          "base_uri": "https://localhost:8080/"
        },
        "id": "dcqbHzk1eji8",
        "outputId": "7e7fdea6-3c7b-4e66-9234-618000cf0d4c"
      },
      "outputs": [
        {
          "output_type": "stream",
          "name": "stdout",
          "text": [
            "La aproximación de la integral por Monte Carlo es:  0.6298608268878471\n"
          ]
        }
      ],
      "source": [
        "#Estimación de la integral por Monte Carlo\n",
        "#Montoya López Jonatan Emmanuel\n",
        "\n",
        "from random import random\n",
        "from math import atan, sqrt\n",
        "from statistics import mean, variance\n",
        "n=100000\n",
        "suma=0\n",
        "l=[]\n",
        "def fun(x):\n",
        "    return sqrt(atan(x))\n",
        "for i in range(n):\n",
        "    x=random()\n",
        "    l.append(fun(x))\n",
        "    \n",
        "integral=mean(l)\n",
        "print('La aproximación de la integral por Monte Carlo es: ', integral)"
      ]
    }
  ]
}